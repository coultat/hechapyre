{
 "cells": [
  {
   "cell_type": "code",
   "execution_count": 28,
   "metadata": {},
   "outputs": [],
   "source": [
    "from selenium import webdriver\n",
    "from login import login\n",
    "import time\n",
    "from selenium.webdriver.common.action_chains import ActionChains\n",
    "from selenium.webdriver.common.keys import Keys"
   ]
  },
  {
   "cell_type": "code",
   "execution_count": 56,
   "metadata": {},
   "outputs": [],
   "source": [
    "def login_adtech():\n",
    "    browser = webdriver.Firefox()\n",
    "    browser.get(login.url)\n",
    "    for i in range(15):\n",
    "        try:\n",
    "            browser.find_element_by_id(\"callback_0\").send_keys(login.user)\n",
    "            break\n",
    "        except:\n",
    "            time.sleep(1)\n",
    "    browser.find_element_by_name(\"callback_2\").click()\n",
    "    for i in range(10):\n",
    "        try:\n",
    "            browser.find_element_by_name(\"callback_1\").send_keys(login.password)\n",
    "            break\n",
    "        except:\n",
    "            time.sleep(1)\n",
    "    browser.find_element_by_name(\"callback_2\").click()\n",
    "    return browser\n",
    "\n",
    "\n",
    "def select_adtech_rules(browser):\n",
    "    master_data_nav =  browser.find_element_by_xpath(\"/html/body/form[1]/div[27]/div[2]/div[1]/div[2]/div/table/tbody/tr/td[1]/div\")\n",
    "    action = ActionChains(browser)\n",
    "    action.move_to_element(master_data_nav).perform()\n",
    "    for i in range(10):\n",
    "        try:\n",
    "            browser.find_element_by_xpath(\"/html/body/div[4]/table/tbody/tr[9]/td/div\").click()\n",
    "            break\n",
    "        except:\n",
    "            time.sleep(1)\n",
    "    return browser"
   ]
  },
  {
   "cell_type": "code",
   "execution_count": 57,
   "metadata": {},
   "outputs": [],
   "source": [
    "def finding_the_iframe(browser):\n",
    "    iframe = browser.find_elements_by_tag_name(\"iframe\")\n",
    "    for i in range(1,500):\n",
    "        try:\n",
    "            browser.find_element_by_id(\"button_button.addRtbRules\")\n",
    "            return browser\n",
    "        except:\n",
    "            browser.switch_to.default_content()\n",
    "            browser.switch_to.frame(iframe[i])"
   ]
  },
  {
   "cell_type": "code",
   "execution_count": 58,
   "metadata": {},
   "outputs": [],
   "source": [
    "def adt_general_create_rule(browser, placement = \"yieldlove.com_d_300x250_1\"):\n",
    "    browser.find_element_by_name(\"name\").send_keys(Keys.CONTROL, \"a\")\n",
    "    browser.find_element_by_name(\"name\").send_keys(Keys.BACKSPACE)\n",
    "    browser.find_element_by_name(\"name\").send_keys(placement)\n",
    "    browser.find_element_by_id(\"status\").click()\n",
    "    browser.find_element_by_xpath('/html/body/form/div[7]/table/tbody/tr[2]/td[2]/div/table/tbody/tr[3]/td[3]/select/option[2]').click()\n",
    "    #now we pass to the placement tab\n",
    "    browser.find_element_by_id(\"tabset_rtbrule.tab.placements\").click()"
   ]
  },
  {
   "cell_type": "code",
   "execution_count": 59,
   "metadata": {},
   "outputs": [],
   "source": [
    "def adt_placements(browser, placement = \"barbie-wedding-games.com_728x90_1\"):\n",
    "    website = placement[:placement.find('_')]\n",
    "    for i in range(3, 1800, 2):\n",
    "        helper = 0\n",
    "        website_adt = browser.find_element_by_xpath('/html/body/form/div[7]/table/tbody/tr[2]/td[2]/div/table[2]/tbody/tr/td/div[2]/table/tbody/tr[4]/td[2]/div[2]/table/tbody/tr['+str(i)+']/td[5]/div')\n",
    "        if website_adt.text == website:\n",
    "            browser.find_element_by_xpath('/html/body/form/div[7]/table/tbody/tr[2]/td[2]/div/table[2]/tbody/tr/td/div[2]/table/tbody/tr[4]/td[2]/div[2]/table/tbody/tr['+str(i)+']/td[2]/div').click()\n",
    "            print(i)\n",
    "            for x in range(20):\n",
    "                try:\n",
    "                    browser.find_element_by_xpath('/html/body/form/div[7]/table/tbody/tr[2]/td[2]/div/table[2]/tbody/tr/td/div[2]/table/tbody/tr[4]/td[2]/div[2]/table/tbody/tr['+str(i + 1)+']/td[2]/div[2]/table/tbody/tr[3]/td[2]/div/center/img').click()\n",
    "                    break\n",
    "                except:\n",
    "                    time.sleep(0.25)\n",
    "            for y in range(1, 20):\n",
    "                try:\n",
    "                    placement_adt = browser.find_element_by_xpath('/html/body/form/div[7]/table/tbody/tr[2]/td[2]/div/table[2]/tbody/tr/td/div[2]/table/tbody/tr[4]/td[2]/div[2]/table/tbody/tr['+str(i +1)+']/td[2]/div[2]/table/tbody/tr[4]/td[2]/div[2]/table/tbody/tr['+str(y)+']/td[5]').text\n",
    "                    if placement_adt == placement:\n",
    "                        browser.find_element_by_xpath('/html/body/form/div[7]/table/tbody/tr[2]/td[2]/div/table[2]/tbody/tr/td/div[2]/table/tbody/tr[4]/td[2]/div[2]/table/tbody/tr['+str(i + 1)+']/td[2]/div[2]/table/tbody/tr[4]/td[2]/div[2]/table/tbody/tr['+str(y)+']/td[3]/div').click()\n",
    "                        helper = 1\n",
    "                        break\n",
    "                except:\n",
    "                    pass\n",
    "        if helper == 0:\n",
    "            print(f\"quebrou {placement}\")\n",
    "        break\n",
    "\n",
    "    #passing to Demand Sources\n",
    "    browser.find_element_by_id('tabset_rtbrule.tab.demand_sources').click()"
   ]
  },
  {
   "cell_type": "code",
   "execution_count": 60,
   "metadata": {},
   "outputs": [],
   "source": [
    "def adt_demand_sources(browser):\n",
    "    for i in range(20):\n",
    "        try:\n",
    "            browser.find_element_by_id(\"___defaultFloorPrice\").send_keys('0.5')\n",
    "            break\n",
    "        except:\n",
    "            time.sleep(0.5)\n",
    "    #pass to advertisers\n",
    "    browser.find_element_by_xpath(\"/html/body/form/div[7]/table/tbody/tr[2]/td[1]/table/tbody/tr[5]/td[2]\").click()"
   ]
  },
  {
   "cell_type": "code",
   "execution_count": 61,
   "metadata": {},
   "outputs": [],
   "source": [
    "def adt_geo_targeting(browser):\n",
    "    browser.find_element_by_id('imgactiontree.selectAllButton').click()\n",
    "    #start changes\n",
    "    browser.find_element_by_xpath('/html/body/form/div[8]/div[2]/div[1]/span').click()"
   ]
  },
  {
   "cell_type": "code",
   "execution_count": null,
   "metadata": {},
   "outputs": [],
   "source": []
  },
  {
   "cell_type": "code",
   "execution_count": null,
   "metadata": {},
   "outputs": [],
   "source": []
  },
  {
   "cell_type": "code",
   "execution_count": null,
   "metadata": {},
   "outputs": [],
   "source": []
  },
  {
   "cell_type": "code",
   "execution_count": null,
   "metadata": {},
   "outputs": [],
   "source": []
  },
  {
   "cell_type": "code",
   "execution_count": null,
   "metadata": {},
   "outputs": [],
   "source": []
  },
  {
   "cell_type": "code",
   "execution_count": null,
   "metadata": {},
   "outputs": [],
   "source": []
  },
  {
   "cell_type": "code",
   "execution_count": null,
   "metadata": {},
   "outputs": [],
   "source": []
  },
  {
   "cell_type": "code",
   "execution_count": null,
   "metadata": {},
   "outputs": [],
   "source": []
  },
  {
   "cell_type": "code",
   "execution_count": 63,
   "metadata": {},
   "outputs": [
    {
     "ename": "UnboundLocalError",
     "evalue": "local variable 'helper' referenced before assignment",
     "output_type": "error",
     "traceback": [
      "\u001b[0;31m---------------------------------------------------------------------------\u001b[0m",
      "\u001b[0;31mUnboundLocalError\u001b[0m                         Traceback (most recent call last)",
      "\u001b[0;32m<ipython-input-63-c66bb89b78b8>\u001b[0m in \u001b[0;36m<module>\u001b[0;34m\u001b[0m\n\u001b[1;32m      9\u001b[0m \u001b[0madt_general_create_rule\u001b[0m\u001b[0;34m(\u001b[0m\u001b[0mbrowser\u001b[0m\u001b[0;34m)\u001b[0m\u001b[0;34m\u001b[0m\u001b[0;34m\u001b[0m\u001b[0m\n\u001b[1;32m     10\u001b[0m \u001b[0mtime\u001b[0m\u001b[0;34m.\u001b[0m\u001b[0msleep\u001b[0m\u001b[0;34m(\u001b[0m\u001b[0;36m3\u001b[0m\u001b[0;34m)\u001b[0m\u001b[0;34m\u001b[0m\u001b[0;34m\u001b[0m\u001b[0m\n\u001b[0;32m---> 11\u001b[0;31m \u001b[0madt_placements\u001b[0m\u001b[0;34m(\u001b[0m\u001b[0mbrowser\u001b[0m\u001b[0;34m)\u001b[0m\u001b[0;34m\u001b[0m\u001b[0;34m\u001b[0m\u001b[0m\n\u001b[0m\u001b[1;32m     12\u001b[0m \u001b[0madt_demand_sources\u001b[0m\u001b[0;34m(\u001b[0m\u001b[0mbrowser\u001b[0m\u001b[0;34m)\u001b[0m\u001b[0;34m\u001b[0m\u001b[0;34m\u001b[0m\u001b[0m\n\u001b[1;32m     13\u001b[0m \u001b[0madt_geo_targeting\u001b[0m\u001b[0;34m(\u001b[0m\u001b[0mbrowser\u001b[0m\u001b[0;34m)\u001b[0m\u001b[0;34m\u001b[0m\u001b[0;34m\u001b[0m\u001b[0m\n",
      "\u001b[0;32m<ipython-input-59-af40f73753f6>\u001b[0m in \u001b[0;36madt_placements\u001b[0;34m(browser, placement)\u001b[0m\n\u001b[1;32m     22\u001b[0m                 \u001b[0;32mexcept\u001b[0m\u001b[0;34m:\u001b[0m\u001b[0;34m\u001b[0m\u001b[0;34m\u001b[0m\u001b[0m\n\u001b[1;32m     23\u001b[0m                     \u001b[0;32mpass\u001b[0m\u001b[0;34m\u001b[0m\u001b[0;34m\u001b[0m\u001b[0m\n\u001b[0;32m---> 24\u001b[0;31m         \u001b[0;32mif\u001b[0m \u001b[0mhelper\u001b[0m \u001b[0;34m==\u001b[0m \u001b[0;36m0\u001b[0m\u001b[0;34m:\u001b[0m\u001b[0;34m\u001b[0m\u001b[0;34m\u001b[0m\u001b[0m\n\u001b[0m\u001b[1;32m     25\u001b[0m             \u001b[0mprint\u001b[0m\u001b[0;34m(\u001b[0m\u001b[0;34mf\"quebrou {placement}\"\u001b[0m\u001b[0;34m)\u001b[0m\u001b[0;34m\u001b[0m\u001b[0;34m\u001b[0m\u001b[0m\n\u001b[1;32m     26\u001b[0m         \u001b[0;32mbreak\u001b[0m\u001b[0;34m\u001b[0m\u001b[0;34m\u001b[0m\u001b[0m\n",
      "\u001b[0;31mUnboundLocalError\u001b[0m: local variable 'helper' referenced before assignment"
     ]
    }
   ],
   "source": [
    "placement = \"barbie-wedding-games.com_728x90_1\"\n",
    "website = placement[:placement.find('_')]\n",
    "browser = login_adtech()\n",
    "time.sleep(10)\n",
    "browser = select_adtech_rules(browser)\n",
    "time.sleep(1)\n",
    "browser = finding_the_iframe(browser)\n",
    "browser.find_element_by_id(\"button_button.addRtbRules\").click()\n",
    "adt_general_create_rule(browser)\n",
    "time.sleep(3)\n",
    "adt_placements(browser)\n",
    "adt_demand_sources(browser)\n",
    "adt_geo_targeting(browser)"
   ]
  },
  {
   "cell_type": "code",
   "execution_count": null,
   "metadata": {},
   "outputs": [],
   "source": []
  }
 ],
 "metadata": {
  "kernelspec": {
   "display_name": "Python 3",
   "language": "python",
   "name": "python3"
  },
  "language_info": {
   "codemirror_mode": {
    "name": "ipython",
    "version": 3
   },
   "file_extension": ".py",
   "mimetype": "text/x-python",
   "name": "python",
   "nbconvert_exporter": "python",
   "pygments_lexer": "ipython3",
   "version": "3.7.4"
  }
 },
 "nbformat": 4,
 "nbformat_minor": 2
}
