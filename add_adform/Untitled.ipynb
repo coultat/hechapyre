{
 "cells": [
  {
   "cell_type": "code",
   "execution_count": 3,
   "metadata": {},
   "outputs": [],
   "source": [
    "import requests\n",
    "import time\n",
    "import urllib\n",
    "import json\n",
    "import collections\n",
    "from store.login import login"
   ]
  },
  {
   "cell_type": "code",
   "execution_count": 4,
   "metadata": {},
   "outputs": [],
   "source": [
    "def get_process_id(auth, placement):\n",
    "    data = {'placement_name': json.dumps(placement)}\n",
    "    result = requests.post(u'http://ec2-35-156-226-95.eu-central-1.compute.amazonaws.com/api/execute/HeaderBidding/get_prebid_placement_config',\n",
    "                           data=urllib.parse.urlencode(data),\n",
    "                           headers={'Content-Type': 'application/x-www-form-urlencoded'},\n",
    "                           auth=auth,\n",
    "                           stream=True)\n",
    "    process_id = result.json()\n",
    "    return process_id"
   ]
  },
  {
   "cell_type": "code",
   "execution_count": 5,
   "metadata": {},
   "outputs": [],
   "source": [
    "def get_placement_json(process_id):\n",
    "    while True:\n",
    "        placement_info = requests.get(\n",
    "            'http://ec2-35-156-226-95.eu-central-1.compute.amazonaws.com/api/get_yieldbot_process/' + str(process_id),\n",
    "            auth = auth,\n",
    "            stream = True)\n",
    "        if placement_info.json()['status'] == 2:\n",
    "            return placement_info.json()\n",
    "        elif placement_info.json()['status'] == -1 or placement_info.json()['status'] == -2:\n",
    "            return \"NOT PREBID\"\n",
    "        else:\n",
    "            time.sleep(1)"
   ]
  },
  {
   "cell_type": "code",
   "execution_count": 14,
   "metadata": {},
   "outputs": [],
   "source": [
    "placement = 'zusammengebaut.com_m_300x250_5'\n",
    "auth = login.auth"
   ]
  },
  {
   "cell_type": "code",
   "execution_count": 15,
   "metadata": {},
   "outputs": [],
   "source": [
    "p_id = get_process_id(auth, placement)"
   ]
  },
  {
   "cell_type": "code",
   "execution_count": 16,
   "metadata": {},
   "outputs": [],
   "source": [
    "t = get_placement_json(p_id)"
   ]
  },
  {
   "cell_type": "code",
   "execution_count": 18,
   "metadata": {},
   "outputs": [
    {
     "data": {
      "text/plain": [
       "dict"
      ]
     },
     "execution_count": 18,
     "metadata": {},
     "output_type": "execute_result"
    }
   ],
   "source": [
    "type(t)"
   ]
  },
  {
   "cell_type": "code",
   "execution_count": null,
   "metadata": {},
   "outputs": [],
   "source": []
  }
 ],
 "metadata": {
  "kernelspec": {
   "display_name": "Python 3",
   "language": "python",
   "name": "python3"
  },
  "language_info": {
   "codemirror_mode": {
    "name": "ipython",
    "version": 3
   },
   "file_extension": ".py",
   "mimetype": "text/x-python",
   "name": "python",
   "nbconvert_exporter": "python",
   "pygments_lexer": "ipython3",
   "version": "3.7.4"
  }
 },
 "nbformat": 4,
 "nbformat_minor": 2
}
