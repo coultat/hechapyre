{
 "cells": [
  {
   "cell_type": "code",
   "execution_count": 2,
   "metadata": {},
   "outputs": [],
   "source": [
    "from create_placements_stroeer_ssp import transforming_placements_json, transforming_websites_json, merging_placements_websites\n",
    "from selenium import webdriver\n",
    "from selenium.webdriver.common.keys import Keys\n",
    "from store.login import login\n",
    "import time"
   ]
  },
  {
   "cell_type": "code",
   "execution_count": 4,
   "metadata": {},
   "outputs": [],
   "source": [
    "def login_stroeer_blocklist():\n",
    "    driver = webdriver.Firefox()\n",
    "    driver.get(login.stroeer_url)\n",
    "    time.sleep(7)\n",
    "    driver.find_element_by_name('email').send_keys(login.stroeer_login)\n",
    "    driver.find_element_by_name('password').send_keys(login.stroeer_pw)\n",
    "    driver.find_element_by_class_name('auth0-label-submit').click()\n",
    "    return driver"
   ]
  },
  {
   "cell_type": "code",
   "execution_count": 5,
   "metadata": {},
   "outputs": [],
   "source": [
    "driver = login_stroeer_blocklist()"
   ]
  },
  {
   "cell_type": "code",
   "execution_count": null,
   "metadata": {},
   "outputs": [],
   "source": []
  }
 ],
 "metadata": {
  "kernelspec": {
   "display_name": "Python 3",
   "language": "python",
   "name": "python3"
  },
  "language_info": {
   "codemirror_mode": {
    "name": "ipython",
    "version": 3
   },
   "file_extension": ".py",
   "mimetype": "text/x-python",
   "name": "python",
   "nbconvert_exporter": "python",
   "pygments_lexer": "ipython3",
   "version": "3.7.4"
  }
 },
 "nbformat": 4,
 "nbformat_minor": 2
}
