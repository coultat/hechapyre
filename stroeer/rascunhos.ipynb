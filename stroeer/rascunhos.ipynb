{
 "cells": [
  {
   "cell_type": "code",
   "execution_count": 2,
   "metadata": {},
   "outputs": [],
   "source": [
    "from create_placements_stroeer_ssp import transforming_placements_json, transforming_websites_json, merging_placements_websites\n",
    "from selenium.common.exceptions import StaleElementReferenceException, NoSuchElementException\n",
    "from store.sample import placements\n",
    "from selenium.webdriver.common.action_chains import ActionChains\n",
    "from selenium import webdriver\n",
    "from selenium.webdriver.common.keys import Keys\n",
    "from store.login import login\n",
    "import time"
   ]
  },
  {
   "cell_type": "code",
   "execution_count": 3,
   "metadata": {},
   "outputs": [
    {
     "ename": "ElementNotInteractableException",
     "evalue": "Message: Element <span id=\"username\"> is not reachable by keyboard\n",
     "output_type": "error",
     "traceback": [
      "\u001b[0;31m---------------------------------------------------------------------------\u001b[0m",
      "\u001b[0;31mElementNotInteractableException\u001b[0m           Traceback (most recent call last)",
      "\u001b[0;32m<ipython-input-3-640e503eb1e6>\u001b[0m in \u001b[0;36m<module>\u001b[0;34m\u001b[0m\n\u001b[1;32m      2\u001b[0m \u001b[0mdriver\u001b[0m\u001b[0;34m.\u001b[0m\u001b[0mget\u001b[0m\u001b[0;34m(\u001b[0m\u001b[0mlogin\u001b[0m\u001b[0;34m.\u001b[0m\u001b[0madscale_url\u001b[0m\u001b[0;34m)\u001b[0m\u001b[0;34m\u001b[0m\u001b[0;34m\u001b[0m\u001b[0m\n\u001b[1;32m      3\u001b[0m \u001b[0mtime\u001b[0m\u001b[0;34m.\u001b[0m\u001b[0msleep\u001b[0m\u001b[0;34m(\u001b[0m\u001b[0;36m10\u001b[0m\u001b[0;34m)\u001b[0m\u001b[0;34m\u001b[0m\u001b[0;34m\u001b[0m\u001b[0m\n\u001b[0;32m----> 4\u001b[0;31m \u001b[0mdriver\u001b[0m\u001b[0;34m.\u001b[0m\u001b[0mfind_element_by_id\u001b[0m\u001b[0;34m(\u001b[0m\u001b[0;34m'username'\u001b[0m\u001b[0;34m)\u001b[0m\u001b[0;34m.\u001b[0m\u001b[0msend_keys\u001b[0m\u001b[0;34m(\u001b[0m\u001b[0mlogin\u001b[0m\u001b[0;34m.\u001b[0m\u001b[0madscale_user\u001b[0m\u001b[0;34m)\u001b[0m\u001b[0;34m\u001b[0m\u001b[0;34m\u001b[0m\u001b[0m\n\u001b[0m",
      "\u001b[0;32m~/anaconda3/lib/python3.7/site-packages/selenium/webdriver/remote/webelement.py\u001b[0m in \u001b[0;36msend_keys\u001b[0;34m(self, *value)\u001b[0m\n\u001b[1;32m    477\u001b[0m         self._execute(Command.SEND_KEYS_TO_ELEMENT,\n\u001b[1;32m    478\u001b[0m                       {'text': \"\".join(keys_to_typing(value)),\n\u001b[0;32m--> 479\u001b[0;31m                        'value': keys_to_typing(value)})\n\u001b[0m\u001b[1;32m    480\u001b[0m \u001b[0;34m\u001b[0m\u001b[0m\n\u001b[1;32m    481\u001b[0m     \u001b[0;31m# RenderedWebElement Items\u001b[0m\u001b[0;34m\u001b[0m\u001b[0;34m\u001b[0m\u001b[0;34m\u001b[0m\u001b[0m\n",
      "\u001b[0;32m~/anaconda3/lib/python3.7/site-packages/selenium/webdriver/remote/webelement.py\u001b[0m in \u001b[0;36m_execute\u001b[0;34m(self, command, params)\u001b[0m\n\u001b[1;32m    631\u001b[0m             \u001b[0mparams\u001b[0m \u001b[0;34m=\u001b[0m \u001b[0;34m{\u001b[0m\u001b[0;34m}\u001b[0m\u001b[0;34m\u001b[0m\u001b[0;34m\u001b[0m\u001b[0m\n\u001b[1;32m    632\u001b[0m         \u001b[0mparams\u001b[0m\u001b[0;34m[\u001b[0m\u001b[0;34m'id'\u001b[0m\u001b[0;34m]\u001b[0m \u001b[0;34m=\u001b[0m \u001b[0mself\u001b[0m\u001b[0;34m.\u001b[0m\u001b[0m_id\u001b[0m\u001b[0;34m\u001b[0m\u001b[0;34m\u001b[0m\u001b[0m\n\u001b[0;32m--> 633\u001b[0;31m         \u001b[0;32mreturn\u001b[0m \u001b[0mself\u001b[0m\u001b[0;34m.\u001b[0m\u001b[0m_parent\u001b[0m\u001b[0;34m.\u001b[0m\u001b[0mexecute\u001b[0m\u001b[0;34m(\u001b[0m\u001b[0mcommand\u001b[0m\u001b[0;34m,\u001b[0m \u001b[0mparams\u001b[0m\u001b[0;34m)\u001b[0m\u001b[0;34m\u001b[0m\u001b[0;34m\u001b[0m\u001b[0m\n\u001b[0m\u001b[1;32m    634\u001b[0m \u001b[0;34m\u001b[0m\u001b[0m\n\u001b[1;32m    635\u001b[0m     \u001b[0;32mdef\u001b[0m \u001b[0mfind_element\u001b[0m\u001b[0;34m(\u001b[0m\u001b[0mself\u001b[0m\u001b[0;34m,\u001b[0m \u001b[0mby\u001b[0m\u001b[0;34m=\u001b[0m\u001b[0mBy\u001b[0m\u001b[0;34m.\u001b[0m\u001b[0mID\u001b[0m\u001b[0;34m,\u001b[0m \u001b[0mvalue\u001b[0m\u001b[0;34m=\u001b[0m\u001b[0;32mNone\u001b[0m\u001b[0;34m)\u001b[0m\u001b[0;34m:\u001b[0m\u001b[0;34m\u001b[0m\u001b[0;34m\u001b[0m\u001b[0m\n",
      "\u001b[0;32m~/anaconda3/lib/python3.7/site-packages/selenium/webdriver/remote/webdriver.py\u001b[0m in \u001b[0;36mexecute\u001b[0;34m(self, driver_command, params)\u001b[0m\n\u001b[1;32m    319\u001b[0m         \u001b[0mresponse\u001b[0m \u001b[0;34m=\u001b[0m \u001b[0mself\u001b[0m\u001b[0;34m.\u001b[0m\u001b[0mcommand_executor\u001b[0m\u001b[0;34m.\u001b[0m\u001b[0mexecute\u001b[0m\u001b[0;34m(\u001b[0m\u001b[0mdriver_command\u001b[0m\u001b[0;34m,\u001b[0m \u001b[0mparams\u001b[0m\u001b[0;34m)\u001b[0m\u001b[0;34m\u001b[0m\u001b[0;34m\u001b[0m\u001b[0m\n\u001b[1;32m    320\u001b[0m         \u001b[0;32mif\u001b[0m \u001b[0mresponse\u001b[0m\u001b[0;34m:\u001b[0m\u001b[0;34m\u001b[0m\u001b[0;34m\u001b[0m\u001b[0m\n\u001b[0;32m--> 321\u001b[0;31m             \u001b[0mself\u001b[0m\u001b[0;34m.\u001b[0m\u001b[0merror_handler\u001b[0m\u001b[0;34m.\u001b[0m\u001b[0mcheck_response\u001b[0m\u001b[0;34m(\u001b[0m\u001b[0mresponse\u001b[0m\u001b[0;34m)\u001b[0m\u001b[0;34m\u001b[0m\u001b[0;34m\u001b[0m\u001b[0m\n\u001b[0m\u001b[1;32m    322\u001b[0m             response['value'] = self._unwrap_value(\n\u001b[1;32m    323\u001b[0m                 response.get('value', None))\n",
      "\u001b[0;32m~/anaconda3/lib/python3.7/site-packages/selenium/webdriver/remote/errorhandler.py\u001b[0m in \u001b[0;36mcheck_response\u001b[0;34m(self, response)\u001b[0m\n\u001b[1;32m    240\u001b[0m                 \u001b[0malert_text\u001b[0m \u001b[0;34m=\u001b[0m \u001b[0mvalue\u001b[0m\u001b[0;34m[\u001b[0m\u001b[0;34m'alert'\u001b[0m\u001b[0;34m]\u001b[0m\u001b[0;34m.\u001b[0m\u001b[0mget\u001b[0m\u001b[0;34m(\u001b[0m\u001b[0;34m'text'\u001b[0m\u001b[0;34m)\u001b[0m\u001b[0;34m\u001b[0m\u001b[0;34m\u001b[0m\u001b[0m\n\u001b[1;32m    241\u001b[0m             \u001b[0;32mraise\u001b[0m \u001b[0mexception_class\u001b[0m\u001b[0;34m(\u001b[0m\u001b[0mmessage\u001b[0m\u001b[0;34m,\u001b[0m \u001b[0mscreen\u001b[0m\u001b[0;34m,\u001b[0m \u001b[0mstacktrace\u001b[0m\u001b[0;34m,\u001b[0m \u001b[0malert_text\u001b[0m\u001b[0;34m)\u001b[0m\u001b[0;34m\u001b[0m\u001b[0;34m\u001b[0m\u001b[0m\n\u001b[0;32m--> 242\u001b[0;31m         \u001b[0;32mraise\u001b[0m \u001b[0mexception_class\u001b[0m\u001b[0;34m(\u001b[0m\u001b[0mmessage\u001b[0m\u001b[0;34m,\u001b[0m \u001b[0mscreen\u001b[0m\u001b[0;34m,\u001b[0m \u001b[0mstacktrace\u001b[0m\u001b[0;34m)\u001b[0m\u001b[0;34m\u001b[0m\u001b[0;34m\u001b[0m\u001b[0m\n\u001b[0m\u001b[1;32m    243\u001b[0m \u001b[0;34m\u001b[0m\u001b[0m\n\u001b[1;32m    244\u001b[0m     \u001b[0;32mdef\u001b[0m \u001b[0m_value_or_default\u001b[0m\u001b[0;34m(\u001b[0m\u001b[0mself\u001b[0m\u001b[0;34m,\u001b[0m \u001b[0mobj\u001b[0m\u001b[0;34m,\u001b[0m \u001b[0mkey\u001b[0m\u001b[0;34m,\u001b[0m \u001b[0mdefault\u001b[0m\u001b[0;34m)\u001b[0m\u001b[0;34m:\u001b[0m\u001b[0;34m\u001b[0m\u001b[0;34m\u001b[0m\u001b[0m\n",
      "\u001b[0;31mElementNotInteractableException\u001b[0m: Message: Element <span id=\"username\"> is not reachable by keyboard\n"
     ]
    }
   ],
   "source": [
    "driver = webdriver.Firefox()\n",
    "driver.get(login.adscale_url)\n",
    "time.sleep(10)\n",
    "driver.find_element_by_id('username').send_keys(login.adscale_user)"
   ]
  },
  {
   "cell_type": "code",
   "execution_count": 12,
   "metadata": {},
   "outputs": [
    {
     "ename": "ElementNotInteractableException",
     "evalue": "Message: Element <span id=\"username\"> is not reachable by keyboard\n",
     "output_type": "error",
     "traceback": [
      "\u001b[0;31m---------------------------------------------------------------------------\u001b[0m",
      "\u001b[0;31mElementNotInteractableException\u001b[0m           Traceback (most recent call last)",
      "\u001b[0;32m<ipython-input-12-3e194b026df5>\u001b[0m in \u001b[0;36m<module>\u001b[0;34m\u001b[0m\n\u001b[0;32m----> 1\u001b[0;31m \u001b[0mdriver\u001b[0m\u001b[0;34m.\u001b[0m\u001b[0mfind_element_by_id\u001b[0m\u001b[0;34m(\u001b[0m\u001b[0;34m\"username\"\u001b[0m\u001b[0;34m)\u001b[0m\u001b[0;34m.\u001b[0m\u001b[0msend_keys\u001b[0m\u001b[0;34m(\u001b[0m\u001b[0;34m\"felipe\"\u001b[0m\u001b[0;34m)\u001b[0m\u001b[0;34m\u001b[0m\u001b[0;34m\u001b[0m\u001b[0m\n\u001b[0m",
      "\u001b[0;32m~/anaconda3/lib/python3.7/site-packages/selenium/webdriver/remote/webelement.py\u001b[0m in \u001b[0;36msend_keys\u001b[0;34m(self, *value)\u001b[0m\n\u001b[1;32m    477\u001b[0m         self._execute(Command.SEND_KEYS_TO_ELEMENT,\n\u001b[1;32m    478\u001b[0m                       {'text': \"\".join(keys_to_typing(value)),\n\u001b[0;32m--> 479\u001b[0;31m                        'value': keys_to_typing(value)})\n\u001b[0m\u001b[1;32m    480\u001b[0m \u001b[0;34m\u001b[0m\u001b[0m\n\u001b[1;32m    481\u001b[0m     \u001b[0;31m# RenderedWebElement Items\u001b[0m\u001b[0;34m\u001b[0m\u001b[0;34m\u001b[0m\u001b[0;34m\u001b[0m\u001b[0m\n",
      "\u001b[0;32m~/anaconda3/lib/python3.7/site-packages/selenium/webdriver/remote/webelement.py\u001b[0m in \u001b[0;36m_execute\u001b[0;34m(self, command, params)\u001b[0m\n\u001b[1;32m    631\u001b[0m             \u001b[0mparams\u001b[0m \u001b[0;34m=\u001b[0m \u001b[0;34m{\u001b[0m\u001b[0;34m}\u001b[0m\u001b[0;34m\u001b[0m\u001b[0;34m\u001b[0m\u001b[0m\n\u001b[1;32m    632\u001b[0m         \u001b[0mparams\u001b[0m\u001b[0;34m[\u001b[0m\u001b[0;34m'id'\u001b[0m\u001b[0;34m]\u001b[0m \u001b[0;34m=\u001b[0m \u001b[0mself\u001b[0m\u001b[0;34m.\u001b[0m\u001b[0m_id\u001b[0m\u001b[0;34m\u001b[0m\u001b[0;34m\u001b[0m\u001b[0m\n\u001b[0;32m--> 633\u001b[0;31m         \u001b[0;32mreturn\u001b[0m \u001b[0mself\u001b[0m\u001b[0;34m.\u001b[0m\u001b[0m_parent\u001b[0m\u001b[0;34m.\u001b[0m\u001b[0mexecute\u001b[0m\u001b[0;34m(\u001b[0m\u001b[0mcommand\u001b[0m\u001b[0;34m,\u001b[0m \u001b[0mparams\u001b[0m\u001b[0;34m)\u001b[0m\u001b[0;34m\u001b[0m\u001b[0;34m\u001b[0m\u001b[0m\n\u001b[0m\u001b[1;32m    634\u001b[0m \u001b[0;34m\u001b[0m\u001b[0m\n\u001b[1;32m    635\u001b[0m     \u001b[0;32mdef\u001b[0m \u001b[0mfind_element\u001b[0m\u001b[0;34m(\u001b[0m\u001b[0mself\u001b[0m\u001b[0;34m,\u001b[0m \u001b[0mby\u001b[0m\u001b[0;34m=\u001b[0m\u001b[0mBy\u001b[0m\u001b[0;34m.\u001b[0m\u001b[0mID\u001b[0m\u001b[0;34m,\u001b[0m \u001b[0mvalue\u001b[0m\u001b[0;34m=\u001b[0m\u001b[0;32mNone\u001b[0m\u001b[0;34m)\u001b[0m\u001b[0;34m:\u001b[0m\u001b[0;34m\u001b[0m\u001b[0;34m\u001b[0m\u001b[0m\n",
      "\u001b[0;32m~/anaconda3/lib/python3.7/site-packages/selenium/webdriver/remote/webdriver.py\u001b[0m in \u001b[0;36mexecute\u001b[0;34m(self, driver_command, params)\u001b[0m\n\u001b[1;32m    319\u001b[0m         \u001b[0mresponse\u001b[0m \u001b[0;34m=\u001b[0m \u001b[0mself\u001b[0m\u001b[0;34m.\u001b[0m\u001b[0mcommand_executor\u001b[0m\u001b[0;34m.\u001b[0m\u001b[0mexecute\u001b[0m\u001b[0;34m(\u001b[0m\u001b[0mdriver_command\u001b[0m\u001b[0;34m,\u001b[0m \u001b[0mparams\u001b[0m\u001b[0;34m)\u001b[0m\u001b[0;34m\u001b[0m\u001b[0;34m\u001b[0m\u001b[0m\n\u001b[1;32m    320\u001b[0m         \u001b[0;32mif\u001b[0m \u001b[0mresponse\u001b[0m\u001b[0;34m:\u001b[0m\u001b[0;34m\u001b[0m\u001b[0;34m\u001b[0m\u001b[0m\n\u001b[0;32m--> 321\u001b[0;31m             \u001b[0mself\u001b[0m\u001b[0;34m.\u001b[0m\u001b[0merror_handler\u001b[0m\u001b[0;34m.\u001b[0m\u001b[0mcheck_response\u001b[0m\u001b[0;34m(\u001b[0m\u001b[0mresponse\u001b[0m\u001b[0;34m)\u001b[0m\u001b[0;34m\u001b[0m\u001b[0;34m\u001b[0m\u001b[0m\n\u001b[0m\u001b[1;32m    322\u001b[0m             response['value'] = self._unwrap_value(\n\u001b[1;32m    323\u001b[0m                 response.get('value', None))\n",
      "\u001b[0;32m~/anaconda3/lib/python3.7/site-packages/selenium/webdriver/remote/errorhandler.py\u001b[0m in \u001b[0;36mcheck_response\u001b[0;34m(self, response)\u001b[0m\n\u001b[1;32m    240\u001b[0m                 \u001b[0malert_text\u001b[0m \u001b[0;34m=\u001b[0m \u001b[0mvalue\u001b[0m\u001b[0;34m[\u001b[0m\u001b[0;34m'alert'\u001b[0m\u001b[0;34m]\u001b[0m\u001b[0;34m.\u001b[0m\u001b[0mget\u001b[0m\u001b[0;34m(\u001b[0m\u001b[0;34m'text'\u001b[0m\u001b[0;34m)\u001b[0m\u001b[0;34m\u001b[0m\u001b[0;34m\u001b[0m\u001b[0m\n\u001b[1;32m    241\u001b[0m             \u001b[0;32mraise\u001b[0m \u001b[0mexception_class\u001b[0m\u001b[0;34m(\u001b[0m\u001b[0mmessage\u001b[0m\u001b[0;34m,\u001b[0m \u001b[0mscreen\u001b[0m\u001b[0;34m,\u001b[0m \u001b[0mstacktrace\u001b[0m\u001b[0;34m,\u001b[0m \u001b[0malert_text\u001b[0m\u001b[0;34m)\u001b[0m\u001b[0;34m\u001b[0m\u001b[0;34m\u001b[0m\u001b[0m\n\u001b[0;32m--> 242\u001b[0;31m         \u001b[0;32mraise\u001b[0m \u001b[0mexception_class\u001b[0m\u001b[0;34m(\u001b[0m\u001b[0mmessage\u001b[0m\u001b[0;34m,\u001b[0m \u001b[0mscreen\u001b[0m\u001b[0;34m,\u001b[0m \u001b[0mstacktrace\u001b[0m\u001b[0;34m)\u001b[0m\u001b[0;34m\u001b[0m\u001b[0;34m\u001b[0m\u001b[0m\n\u001b[0m\u001b[1;32m    243\u001b[0m \u001b[0;34m\u001b[0m\u001b[0m\n\u001b[1;32m    244\u001b[0m     \u001b[0;32mdef\u001b[0m \u001b[0m_value_or_default\u001b[0m\u001b[0;34m(\u001b[0m\u001b[0mself\u001b[0m\u001b[0;34m,\u001b[0m \u001b[0mobj\u001b[0m\u001b[0;34m,\u001b[0m \u001b[0mkey\u001b[0m\u001b[0;34m,\u001b[0m \u001b[0mdefault\u001b[0m\u001b[0;34m)\u001b[0m\u001b[0;34m:\u001b[0m\u001b[0;34m\u001b[0m\u001b[0;34m\u001b[0m\u001b[0m\n",
      "\u001b[0;31mElementNotInteractableException\u001b[0m: Message: Element <span id=\"username\"> is not reachable by keyboard\n"
     ]
    }
   ],
   "source": [
    "driver.find_element_by_id(\"username\").send_keys(\"felipe\")"
   ]
  },
  {
   "cell_type": "code",
   "execution_count": 2,
   "metadata": {},
   "outputs": [],
   "source": [
    "def get_json_data():\n",
    "    websites_json = []\n",
    "    placements_json = []\n",
    "    final_json = []\n",
    "    placements.sort()\n",
    "    placements_json = transforming_placements_json(placements)\n",
    "    websites_json = transforming_websites_json(placements)\n",
    "    websites_json = merging_placements_websites(websites_json, placements_json)\n",
    "    return websites_json"
   ]
  },
  {
   "cell_type": "code",
   "execution_count": 3,
   "metadata": {},
   "outputs": [],
   "source": [
    "def login_stroeer():\n",
    "    driver = webdriver.Firefox()\n",
    "    driver.get(login.stroeer_url)\n",
    "    time.sleep(7)\n",
    "    driver.find_element_by_name('email').send_keys(login.stroeer_login)\n",
    "    driver.find_element_by_name('password').send_keys(login.stroeer_pw)\n",
    "    driver.find_element_by_class_name('auth0-label-submit').click()\n",
    "    return driver"
   ]
  },
  {
   "cell_type": "code",
   "execution_count": 4,
   "metadata": {},
   "outputs": [],
   "source": [
    "def checking_websites(driver, websites, helpers):\n",
    "    for website in websites:\n",
    "        for helper in helpers:\n",
    "            if len(website[helper[0]]) > 0:\n",
    "                driver.find_element_by_id('mat-chip-list-input-0').send_keys(website['website'] + helper[1])\n",
    "                driver.find_element_by_id('mat-chip-list-input-0').send_keys(Keys.ENTER)\n",
    "                for x in range(10):\n",
    "                    try:\n",
    "                        result = driver.find_element_by_xpath(\n",
    "                            '/html/body/pm-root/div/ng-component/div/div/pm-portfolio-master-overview/div[1]/mat-tab-group/div/'\\\n",
    "                            'mat-tab-body[1]/div/div/pm-media-overview/div/mat-card/mat-card-content/mat-list/mat-list-item/div'\\\n",
    "                            '/div[3]/div[1]/div[2]/h4').text\n",
    "                        break\n",
    "                    except StaleElementReferenceException:\n",
    "                        time.sleep(0.5)\n",
    "                    except:\n",
    "                        result = None\n",
    "                        break\n",
    "                if result == None:\n",
    "                    print(f\"TEM QUE CRIAR O SITE {website['website']}¡\")\n",
    "                    #tem que criar o site\n",
    "                    pass\n",
    "                elif result == website['website'] + helper[1]:\n",
    "                    website[helper[2]] = 'yes'\n",
    "                    pass\n",
    "                else:\n",
    "                    for i in range(2,30):\n",
    "                        try:\n",
    "                            xpath = '/html/body/pm-root/div/ng-component/div/div/pm-portfolio-master-overview/div[1]/'\\\n",
    "                                    'mat-tab-group/div/mat-tab-body[1]/div/div/pm-media-overview/div/mat-card/mat-card-content/'\\\n",
    "                                    'mat-list/mat-list-item['+str(i)+']/div/div[3]/div[1]/div[2]/h4'\n",
    "                            if driver.find_element_by_xpath(xpath).text == website['website'] + helper[1]:\n",
    "                                website[helper[2]] = 'yes'\n",
    "                                break\n",
    "                        except:\n",
    "                            pass\n",
    "                delete_field_name(driver)"
   ]
  },
  {
   "cell_type": "code",
   "execution_count": 5,
   "metadata": {},
   "outputs": [],
   "source": [
    "def checking_placements_ids(driver, placements, helpers):\n",
    "    driver.find_element_by_id('mat-tab-label-0-1').click()\n",
    "    for placement in placements:\n",
    "        for helper in helpers:\n",
    "            if placement[helper[2]] == 'yes':\n",
    "                for result in placement[helper[0]]:\n",
    "                    driver.find_element_by_id('mat-chip-list-input-0').send_keys(result['name'])\n",
    "                    driver.find_element_by_id('mat-chip-list-input-0').send_keys(Keys.ENTER)\n",
    "                    driver.find_element_by_id('mat-tab-label-0-1').click()\n",
    "                    try:\n",
    "                        platzierung = driver.find_element_by_xpath(\n",
    "                        '/html/body/pm-root/div/ng-component/div/div/pm-portfolio-master-overview/div/mat-tab-group/'\\\n",
    "                        'div/mat-tab-body[2]/div/div/pm-ad-slots-overview/mat-card/mat-card-content/mat-list/'\\\n",
    "                        'mat-list-item/div/div[3]/div[2]/h4').text\n",
    "                    except:\n",
    "                        platzierung = 'no'\n",
    "                    if platzierung == result['name']:\n",
    "                        driver.find_element_by_xpath(\n",
    "                            '/html/body/pm-root/div/ng-component/div/div/pm-portfolio-master-overview/div/mat-tab-group/'\\\n",
    "                            'div/mat-tab-body[2]/div/div/pm-ad-slots-overview/mat-card/mat-card-content/mat-list/'\\\n",
    "                            'mat-list-item[1]/div/pm-tag-generator/button/span'\n",
    "                                                ).click()\n",
    "                        result['created'] = get_platzierung_id(driver)\n",
    "                        closing_window(driver)\n",
    "\n",
    "                    elif platzierung != 'no':\n",
    "                         for i in range(2,101):\n",
    "                            try:\n",
    "                                platzierung = driver.find_element_by_xpath(\n",
    "                                    '/html/body/pm-root/div/ng-component/div/div/pm-portfolio-master-overview/div/'\\\n",
    "                                    'mat-tab-group/div/mat-tab-body[2]/div/div/pm-ad-slots-overview/mat-card/'\\\n",
    "                                    'mat-card-content/mat-list/mat-list-item['+str(i)+']/div/div[3]/div[2]/h4'\n",
    "                                                ).text\n",
    "                                if platzierung == result['name']:\n",
    "                                    driver.find_element_by_xpath(\n",
    "                                        '/html/body/pm-root/div/ng-component/div/div/pm-portfolio-master-overview/div/'\\\n",
    "                                        'mat-tab-group/div/mat-tab-body[2]/div/div/pm-ad-slots-overview/mat-card/'\\\n",
    "                                        'mat-card-content/mat-list/mat-list-item['+str(i)+']/div/pm-tag-generator/'\\\n",
    "                                        'button/span'\n",
    "                                    ).click()\n",
    "                                    result['created'] = get_platzierung_id(driver)\n",
    "                                    closing_window(driver)\n",
    "                                    break\n",
    "                            except NoSuchElementException:\n",
    "                                break\n",
    "                    delete_field_name(driver)"
   ]
  },
  {
   "cell_type": "code",
   "execution_count": 6,
   "metadata": {},
   "outputs": [],
   "source": [
    "def delete_field_name(driver):\n",
    "    time.sleep(0.25)\n",
    "    driver.find_element_by_xpath(\n",
    "        '/html/body/pm-root/div/ng-component/div/div/pm-portfolio-master-overview/div[1]/ibb-search-bar/div/'\\\n",
    "        'mat-chip-list/div/mat-chip/mat-icon'\n",
    "    ).click()"
   ]
  },
  {
   "cell_type": "code",
   "execution_count": 7,
   "metadata": {},
   "outputs": [],
   "source": [
    "def get_platzierung_id(driver):\n",
    "    time.sleep(1.5)\n",
    "    for j in range(2000):\n",
    "        try:\n",
    "            platz_id = driver.find_element_by_id('mat-input-'+str(j)).text\n",
    "            platz_id = platz_id[platz_id.find('d=') + 3: platz_id.find('\"', platz_id.find('d=') + 3)]\n",
    "            return platz_id\n",
    "        except NoSuchElementException:\n",
    "            pass"
   ]
  },
  {
   "cell_type": "code",
   "execution_count": 8,
   "metadata": {},
   "outputs": [],
   "source": [
    "def closing_window(driver):\n",
    "    aux = 0\n",
    "    for i in range(5000):\n",
    "        if aux == 1:\n",
    "            break\n",
    "        for j in range(600):\n",
    "            try:\n",
    "                driver.find_element_by_xpath(\n",
    "                    '/html/body/div['+str(j)+']/div['+str(i)+']/div/mat-dialog-container/pm-tag-generator-dialog/'\\\n",
    "                    'div[1]/button'\n",
    "                ).click()\n",
    "                aux = 1\n",
    "                break\n",
    "            except:\n",
    "                pass"
   ]
  },
  {
   "cell_type": "code",
   "execution_count": 9,
   "metadata": {},
   "outputs": [],
   "source": [
    "def writing_website(driver, name, helper):\n",
    "    for i in range(5000):\n",
    "        try:\n",
    "            driver.find_element_by_xpath('//*[@id=\"mat-input-'+str(i)+'\"]').send_keys(name + helper[1])\n",
    "            driver.find_element_by_xpath('//*[@id=\"mat-input-'+str(i+1)+'\"]').send_keys('https://' +name + '/')\n",
    "            driver.find_element_by_xpath('//*[@id=\"mat-input-'+str(i+3)+'\"]').send_keys(name + '.' +helper[0])\n",
    "            break\n",
    "        except:\n",
    "            pass\n",
    "    driver.find_element_by_xpath(\n",
    "    '/html/body/pm-root/div/ng-component/div/div/pm-create-medium/div/div/form/ibb-progress-fab/button/span'\n",
    "    ).click()\n",
    "    time.sleep(1)\n",
    "    for i in range(10):\n",
    "        try:\n",
    "            driver.find_element_by_xpath(\n",
    "                '/html/body/pm-root/div/ng-component/div/div/pm-website-detail/div/pm-ad-slots/'\\\n",
    "                'ibb-no-content-info/div[3]/ibb-no-content-action-tile[1]'\n",
    "                ).click()\n",
    "            break\n",
    "        except:\n",
    "            time.sleep(0.75) "
   ]
  },
  {
   "cell_type": "code",
   "execution_count": 10,
   "metadata": {},
   "outputs": [],
   "source": [
    "def create_website(driver, placements, helpers):\n",
    "    driver.find_element_by_xpath(\n",
    "        '/html/body/pm-root/div/ng-component/div/div/pm-portfolio-master-overview/div[1]/mat-tab-group/mat-tab-header/'\\\n",
    "        'div[2]/div/div/div[1]/div/span'\n",
    "        ).click()\n",
    "    for website in placements:\n",
    "        for helper in helpers:\n",
    "            if website[helper[2]] != 'yes' and len(website[helper[0]]) > 0:\n",
    "                website[helper[2]]='yes'\n",
    "                for i in range(50):\n",
    "                    try:\n",
    "                        driver.find_element_by_xpath(\n",
    "                            '/html/body/pm-root/div/ng-component/div/div/pm-portfolio-master-overview/div[2]/'\\\n",
    "                            'button/span/mat-icon'\n",
    "                            ).click()\n",
    "                        break\n",
    "                    except:\n",
    "                        time.sleep(1)\n",
    "                time.sleep(3)\n",
    "                writing_website(driver, website['website'], helper)\n",
    "                aux = 0\n",
    "                for web in website[helper[0]]:\n",
    "                    aux += 1\n",
    "                    create_placement(driver, web['name'], web['sizes'])\n",
    "                    action = ActionChains(driver)\n",
    "                    for x in range(5):\n",
    "                        try:\n",
    "                            button = driver.find_element_by_xpath(\n",
    "                                        '/html/body/pm-root/div/ng-component/div/div/pm-website-detail/div/pm-ad-slots/'\\\n",
    "                                        'ibb-speed-dial/button'\n",
    "                            )\n",
    "                            break\n",
    "                        except:\n",
    "                            time.sleep(1)\n",
    "                    if aux < len(website[helper[0]]):\n",
    "                        action.move_to_element(button).perform()\n",
    "                        for x in range(3):\n",
    "                            try:\n",
    "                                driver.find_element_by_xpath(\n",
    "                                    '/html/body/pm-root/div/ng-component/div/div/pm-website-detail/div/pm-ad-slots/'\\\n",
    "                                    'ibb-speed-dial/div/button[1]'\n",
    "                                    ).click()\n",
    "                                break\n",
    "                            except:\n",
    "                                time.sleep(1)\n",
    "                web['created'] = scrolling_ids(driver, web['name'])\n",
    "                driver.find_element_by_xpath(\n",
    "                            '/html/body/pm-root/div/ng-component/div/pm-website-toolbar/header/div[1]/a'\n",
    "                                ).click()"
   ]
  },
  {
   "cell_type": "code",
   "execution_count": 11,
   "metadata": {},
   "outputs": [],
   "source": [
    "def create_placement(driver, name, sizes):\n",
    "    sizes = sizes.split(',')\n",
    "    for i in range(10000):\n",
    "        try:\n",
    "            driver.find_element_by_id('mat-input-'+str(i)).send_keys(name)\n",
    "            writing_selecting_sizes(driver, sizes, i+1)\n",
    "            break\n",
    "        except:\n",
    "            pass\n",
    "    driver.find_element_by_xpath(\n",
    "        '/html/body/pm-root/div/ng-component/div/div/pm-create-banner-ad-slot/ibb-speed-dial/ibb-progress-fab/'\\\n",
    "        'button/span/mat-icon'\n",
    "        ).click()"
   ]
  },
  {
   "cell_type": "code",
   "execution_count": 12,
   "metadata": {},
   "outputs": [],
   "source": [
    "def writing_selecting_sizes(driver, sizes, i):\n",
    "    for size in sizes:\n",
    "        aux = 0\n",
    "        if 'sticky' in size:\n",
    "            aux = 1\n",
    "            size = size.replace('sticky', '')\n",
    "        driver.find_element_by_id('mat-input-'+str(i)).send_keys(size)\n",
    "        try:\n",
    "            driver.find_element_by_xpath('/html/body/div[2]/div/div/div/mat-option/span/span').click()\n",
    "        except:\n",
    "            driver.find_element_by_id('mat-input-'+str(i)).send_keys(Keys.CONTROL, \"a\")\n",
    "            driver.find_element_by_id('mat-input-'+str(i)).send_keys(Keys.BACKSPACE)\n",
    "        if aux == 1:\n",
    "            driver.find_element_by_id('mat-input-'+str(i)).send_keys(size + ' sticky')\n",
    "            try:\n",
    "                driver.find_element_by_xpath('/html/body/div[2]/div/div/div/mat-option/span/span').click()\n",
    "            except:\n",
    "                driver.find_element_by_id('mat-input-'+str(i)).send_keys(Keys.CONTROL, \"a\")\n",
    "                driver.find_element_by_id('mat-input-'+str(i)).send_keys(Keys.BACKSPACE)"
   ]
  },
  {
   "cell_type": "code",
   "execution_count": 13,
   "metadata": {},
   "outputs": [],
   "source": [
    "def scrolling_ids(driver, name):\n",
    "    time.sleep(1.5)\n",
    "    pl = ''\n",
    "    for i in range(3000):\n",
    "        try:\n",
    "            platzierung = driver.find_element_by_xpath(\n",
    "            '/html/body/pm-root/div/ng-component/div/div/pm-website-detail/div/pm-ad-slots/div/pm-list-ad-slot-zones/'\\\n",
    "            'div/mat-card/mat-card-content/mat-list/mat-list-item['+str(i)+']/div/pm-ad-slot-card/div/'\\\n",
    "            'div[1]/pm-banner-ad-slot-card/div/div[1]/h3').text\n",
    "            if platzierung == name:\n",
    "                while len(pl) < 1:\n",
    "                    driver.find_element_by_xpath(\n",
    "                    '/html/body/pm-root/div/ng-component/div/div/pm-website-detail/div/pm-ad-slots/div/'\\\n",
    "                    'pm-list-ad-slot-zones/div/mat-card/mat-card-content/mat-list/mat-list-item['+str(i)+']'\\\n",
    "                    '/div/pm-ad-slot-card/div/div[2]/pm-tag-generator/button').click()\n",
    "                    pl_id = get_platzierung_id(driver)\n",
    "                    closing_window(driver)\n",
    "                break\n",
    "        except:\n",
    "            pass\n",
    "    return pl_id"
   ]
  },
  {
   "cell_type": "code",
   "execution_count": 14,
   "metadata": {},
   "outputs": [],
   "source": [
    "placements = get_json_data()\n",
    "driver = login_stroeer()\n",
    "time.sleep(10)\n",
    "helpers = [['tablet', '_t', 'tab_created'],['desktop', '_d', 'desk_created'], ['mobile', '_m', 'mob_created']]\n",
    "\n",
    "#checking_websites(driver, placements, helpers)\n",
    "#checking_placements_ids(driver, placements, helpers)\n",
    "#time.sleep(10)\n",
    "#create_website(driver, placements, helpers)\n",
    "#time.sleep(10)\n",
    "#creating_placements_with_existingwebsite(driver, placements, helpers)"
   ]
  },
  {
   "cell_type": "code",
   "execution_count": 17,
   "metadata": {},
   "outputs": [
    {
     "name": "stdout",
     "output_type": "stream",
     "text": [
      "1001-rimes.com no\n",
      "1001-rimes.com no\n",
      "1001-rimes.com no\n",
      "1mot.net no\n",
      "1mot.net no\n",
      "1mot.net no\n",
      "24sata.hr no\n",
      "24sata.hr no\n",
      "24sata.hr no\n",
      "aachener-nachrichten.de no\n",
      "aachener-nachrichten.de no\n",
      "aachener-nachrichten.de no\n",
      "aachener-zeitung.de no\n",
      "aachener-zeitung.de no\n",
      "aachener-zeitung.de no\n",
      "abendblatt.de no\n",
      "abendblatt.de no\n",
      "abendblatt.de no\n"
     ]
    }
   ],
   "source": [
    "for website in placements:\n",
    "    for helper in helpers:\n",
    "        "
   ]
  },
  {
   "cell_type": "code",
   "execution_count": null,
   "metadata": {},
   "outputs": [],
   "source": [
    "for placement in placements:\n",
    "    for helper in helpers:\n",
    "        if len(placement[helper[0]]) > 0:\n",
    "            for result in placement[helper[0]]:\n",
    "                print(result['name'], result['created'])"
   ]
  },
  {
   "cell_type": "code",
   "execution_count": 253,
   "metadata": {},
   "outputs": [
    {
     "name": "stdout",
     "output_type": "stream",
     "text": [
      "0\n"
     ]
    }
   ],
   "source": [
    "for placement in placements:\n",
    "    for helper in helpers:\n",
    "        if len(placement[helper[0]]) > 0:\n",
    "            for result in placement[helper[0]]:\n",
    "                if 'aachener-nachrichten.de_d_970x250_1' == result['name']:\n",
    "                    print(len(result['created']))"
   ]
  },
  {
   "cell_type": "code",
   "execution_count": 205,
   "metadata": {},
   "outputs": [
    {
     "name": "stdout",
     "output_type": "stream",
     "text": [
      "aachener-nachrichten.de_m_320x250_1\n"
     ]
    }
   ],
   "source": [
    "for websites in placements:\n",
    "    for helper in helpers:\n",
    "        if len(websites[helper[0]]) > 0 and websites[helper[2]] == 'yes':\n",
    "            for web in websites[helper[0]]:\n",
    "                if web['created'] == 'no':\n",
    "                    print(web['name'])\n",
    "                    '''\n",
    "                    for i in range(5000):\n",
    "                        try:\n",
    "                            driver.find_element_by_id('mat-chip-list-input-'+str(i)).send_keys(websites['website'] + helper[1])\n",
    "                            driver.find_element_by_id('mat-chip-list-input-'+str(i)).send_keys(Keys.RETURN)\n",
    "                            break\n",
    "                        except:\n",
    "                            pass\n",
    "                    time.sleep(1)\n",
    "                    try:\n",
    "                        result = driver.find_element_by_xpath(\n",
    "                                '/html/body/pm-root/div/ng-component/div/div/pm-portfolio-master-overview/div[1]/mat-tab-group/div/'\\\n",
    "                                'mat-tab-body[1]/div/div/pm-media-overview/div/mat-card/mat-card-content/mat-list/mat-list-item/div/'\\\n",
    "                                'div[3]/div[1]/div[2]').text\n",
    "                    except:\n",
    "                        result = 'no'\n",
    "                    if result == websites['website'] + helper[1]:\n",
    "                        driver.find_element_by_xpath(\n",
    "                                '/html/body/pm-root/div/ng-component/div/div/pm-portfolio-master-overview/div[1]/mat-tab-group/div/'\\\n",
    "                                'mat-tab-body[1]/div/div/pm-media-overview/div/mat-card/mat-card-content/mat-list/mat-list-item/div/'\\\n",
    "                                'div[3]/div[1]/div[2]').click()\n",
    "                    elif result != 'no' and result != websites['website'] + helper[1]:\n",
    "                        for i in range(5000):\n",
    "                            try:\n",
    "                                xpath = ('/html/body/pm-root/div/ng-component/div/div/pm-portfolio-master-overview/div[1]/mat-tab-group/div/'\\\n",
    "                                    'mat-tab-body[1]/div/div/pm-media-overview/div/mat-card/mat-card-content/mat-list/mat-list-item['+str(i)+']/div/'\\\n",
    "                                    'div[3]/div[1]/div[2]')\n",
    "                                if websites['website'] + helper[1] == driver.find_element_by_xpath(xpath).text:\n",
    "                                    driver.find_element_by_xpath(xpath).click()\n",
    "                                    break\n",
    "                            except:\n",
    "                                pass\n",
    "                    print(\"analiza ai\")\n",
    "                    for i in range(5):\n",
    "                        try:\n",
    "                            driver.find_element_by_xpath(\n",
    "                                    '/html/body/pm-root/div/ng-component/div/div/pm-website-detail/div/pm-ad-slots/ibb-speed-dial/button'\n",
    "                                    ).click()\n",
    "                            driver.find_element_by_xpath(\n",
    "                                '/html/body/pm-root/div/ng-component/div/div/pm-website-detail/div/pm-ad-slots/ibb-speed-dial/div/button[1]').click()\n",
    "                            break\n",
    "                        except:\n",
    "                            time.sleep(1)\n",
    "                    create_placement(driver, web['name'], web['sizes'])\n",
    "                    time.sleep(5)\n",
    "            for i in range(20):\n",
    "                try:\n",
    "                    driver.find_element_by_xpath('//*[@id=\"mat-tab-label-0-0\"]').click()\n",
    "                except:\n",
    "                    time.sleep(0.5)\n",
    "            break\n",
    "            '''"
   ]
  },
  {
   "cell_type": "code",
   "execution_count": null,
   "metadata": {},
   "outputs": [],
   "source": []
  },
  {
   "cell_type": "code",
   "execution_count": 213,
   "metadata": {},
   "outputs": [],
   "source": [
    "for placement in placements:\n",
    "    for helper in helpers:\n",
    "        if len(placement[helper[0]]) > 0 and placement[helper[2]] != 'yes':\n",
    "            print(placement['name'])"
   ]
  },
  {
   "cell_type": "code",
   "execution_count": 214,
   "metadata": {},
   "outputs": [
    {
     "name": "stdout",
     "output_type": "stream",
     "text": [
      "aachener-nachrichten.de_m_320x250_1\n"
     ]
    }
   ],
   "source": [
    "#condición:\n",
    "for websites in placements:\n",
    "    for helper in helpers:\n",
    "        if len(websites[helper[0]]) > 0 and websites[helper[2]] == 'yes':\n",
    "            for web in websites[helper[0]]:\n",
    "                if web['created'] == 'no':\n",
    "                    print(web['name'])"
   ]
  },
  {
   "cell_type": "code",
   "execution_count": 258,
   "metadata": {},
   "outputs": [],
   "source": [
    "pl=''\n",
    "x = 0\n",
    "while len(pl) < 1:\n",
    "    x += 1\n",
    "    if x > 5:\n",
    "        pl = 'puta mierda'"
   ]
  },
  {
   "cell_type": "code",
   "execution_count": null,
   "metadata": {},
   "outputs": [],
   "source": [
    "def writing_the_placement_2(driver, name):\n",
    "    for i in range(10000):\n",
    "        try:\n",
    "            driver.find_element_by_id('mat-chip-list-input-'+str(i)).send_keys(name)\n",
    "            break\n",
    "        except:\n",
    "            pass"
   ]
  }
 ],
 "metadata": {
  "kernelspec": {
   "display_name": "Python 3",
   "language": "python",
   "name": "python3"
  },
  "language_info": {
   "codemirror_mode": {
    "name": "ipython",
    "version": 3
   },
   "file_extension": ".py",
   "mimetype": "text/x-python",
   "name": "python",
   "nbconvert_exporter": "python",
   "pygments_lexer": "ipython3",
   "version": "3.7.4"
  }
 },
 "nbformat": 4,
 "nbformat_minor": 2
}
